{
 "cells": [
  {
   "cell_type": "markdown",
   "id": "250906eb",
   "metadata": {},
   "source": [
    "# by using for loop"
   ]
  },
  {
   "cell_type": "code",
   "execution_count": 14,
   "id": "52903bac",
   "metadata": {},
   "outputs": [
    {
     "name": "stdout",
     "output_type": "stream",
     "text": [
      "sample output: {'a': 97, 'b': 98, 'c': 99, 'd': 100, 'e': 101, 'f': 102, 'g': 103, 'h': 104, 'i': 105, 'j': 106, 'k': 107, 'l': 108, 'm': 109, 'n': 110, 'o': 111, 'p': 112, 'q': 113, 'r': 114, 's': 115, 't': 116, 'u': 117, 'v': 118, 'w': 119, 'x': 120, 'y': 121, 'z': 122}\n"
     ]
    }
   ],
   "source": [
    "ascii_dict = {}\n",
    "for char in range(ord('a'),ord('z')+1):\n",
    "    ascii_dict[chr(char)]=char\n",
    "print('sample output:',ascii_dict)"
   ]
  },
  {
   "cell_type": "markdown",
   "id": "de4b6deb",
   "metadata": {},
   "source": [
    "# by using while loop"
   ]
  },
  {
   "cell_type": "code",
   "execution_count": 15,
   "id": "f7b1aef6",
   "metadata": {},
   "outputs": [
    {
     "name": "stdout",
     "output_type": "stream",
     "text": [
      "sample output: {'a': 97, 'z': 122, 'b': 98, 'c': 99, 'd': 100, 'e': 101, 'f': 102, 'g': 103, 'h': 104, 'i': 105, 'j': 106, 'k': 107, 'l': 108, 'm': 109, 'n': 110, 'o': 111, 'p': 112, 'q': 113, 'r': 114, 's': 115, 't': 116, 'u': 117, 'v': 118, 'w': 119, 'x': 120, 'y': 121}\n"
     ]
    }
   ],
   "source": [
    "ascii_dict = {}\n",
    "current_char='a'\n",
    "ascii_value=ord(current_char)\n",
    "while current_char<='z':\n",
    "    ascii_dict[current_char]=ascii_value\n",
    "    ascii_value+=1\n",
    "    current_char = chr(ascii_value)\n",
    "    ascii_dict[chr(char)]=char\n",
    "print('sample output:',ascii_dict)"
   ]
  }
 ],
 "metadata": {
  "kernelspec": {
   "display_name": "Python 3 (ipykernel)",
   "language": "python",
   "name": "python3"
  },
  "language_info": {
   "codemirror_mode": {
    "name": "ipython",
    "version": 3
   },
   "file_extension": ".py",
   "mimetype": "text/x-python",
   "name": "python",
   "nbconvert_exporter": "python",
   "pygments_lexer": "ipython3",
   "version": "3.10.9"
  }
 },
 "nbformat": 4,
 "nbformat_minor": 5
}
